{
 "cells": [
  {
   "cell_type": "code",
   "execution_count": 30,
   "metadata": {},
   "outputs": [],
   "source": [
    "import pandas as pd\n",
    "from sklearn.model_selection import train_test_split, GridSearchCV, cross_val_score, StratifiedKFold\n",
    "from sklearn.svm import SVC\n",
    "from sklearn.metrics import accuracy_score, classification_report, confusion_matrix\n",
    "from sklearn.preprocessing import StandardScaler\n",
    "from sklearn.feature_selection import RFE\n",
    "import matplotlib.pyplot as plt\n",
    "import numpy as np\n",
    "from joblib import dump\n",
    "import logging\n",
    "import json\n",
    "import seaborn as sns"
   ]
  },
  {
   "cell_type": "code",
   "execution_count": 31,
   "metadata": {},
   "outputs": [],
   "source": [
    "# Setup logging\n",
    "logging.basicConfig(level=logging.INFO)\n",
    "logger = logging.getLogger(__name__)"
   ]
  },
  {
   "cell_type": "code",
   "execution_count": 32,
   "metadata": {},
   "outputs": [],
   "source": [
    "# Load the CSV file into a pandas DataFrame\n",
    "try:\n",
    "    df = pd.read_csv(\"datafiles/property_tag.csv\")\n",
    "except FileNotFoundError as e:\n",
    "    logger.error(\"File not found: %s\", e)\n",
    "    raise\n",
    "except pd.errors.EmptyDataError as e:\n",
    "    logger.error(\"File is empty: %s\", e)\n",
    "    raise"
   ]
  },
  {
   "cell_type": "code",
   "execution_count": 33,
   "metadata": {},
   "outputs": [
    {
     "name": "stdout",
     "output_type": "stream",
     "text": [
      "Index(['system_ind', 'tag', 'num_vertices', 'iso_q', 'fractal', 'eri',\n",
      "       'convexity', 'area_in_me', 'corners', 'average_distance',\n",
      "       'neighbors_within_50m', 'first_neighbor', 'distance_to_nearest_road',\n",
      "       'centroid_elevation', 'orientation', 'street_alignment', 'ccd_means',\n",
      "       'ccd_stdev', 'cwa', 'elongation', 'squ_comp', 'squareness', 'perimeter',\n",
      "       'average_alignment', 'first_neighbor_alignment'],\n",
      "      dtype='object')\n"
     ]
    }
   ],
   "source": [
    "print(df.columns)"
   ]
  },
  {
   "cell_type": "code",
   "execution_count": 34,
   "metadata": {},
   "outputs": [],
   "source": [
    "df = df.dropna()"
   ]
  },
  {
   "cell_type": "code",
   "execution_count": 35,
   "metadata": {},
   "outputs": [
    {
     "name": "stdout",
     "output_type": "stream",
     "text": [
      "Column system_ind has 0 NaN values\n",
      "Column tag has 0 NaN values\n",
      "Column num_vertices has 0 NaN values\n",
      "Column iso_q has 0 NaN values\n",
      "Column fractal has 0 NaN values\n",
      "Column eri has 0 NaN values\n",
      "Column convexity has 0 NaN values\n",
      "Column area_in_me has 0 NaN values\n",
      "Column corners has 0 NaN values\n",
      "Column average_distance has 0 NaN values\n",
      "Column neighbors_within_50m has 0 NaN values\n",
      "Column first_neighbor has 0 NaN values\n",
      "Column distance_to_nearest_road has 0 NaN values\n",
      "Column centroid_elevation has 0 NaN values\n",
      "Column orientation has 0 NaN values\n",
      "Column street_alignment has 0 NaN values\n",
      "Column ccd_means has 0 NaN values\n",
      "Column ccd_stdev has 0 NaN values\n",
      "Column cwa has 0 NaN values\n",
      "Column elongation has 0 NaN values\n",
      "Column squ_comp has 0 NaN values\n",
      "Column squareness has 0 NaN values\n",
      "Column perimeter has 0 NaN values\n",
      "Column average_alignment has 0 NaN values\n",
      "Column first_neighbor_alignment has 0 NaN values\n"
     ]
    }
   ],
   "source": [
    "for column in df.columns:\n",
    "    print(f\"Column {column} has {df[column].isna().sum()} NaN values\")"
   ]
  },
  {
   "cell_type": "code",
   "execution_count": 22,
   "metadata": {},
   "outputs": [],
   "source": [
    "scaler = StandardScaler()"
   ]
  },
  {
   "cell_type": "code",
   "execution_count": 23,
   "metadata": {},
   "outputs": [],
   "source": [
    "# Define the features (independent variables) and the target (dependent variable)\n",
    "X = df[\n",
    "    [\n",
    "        \"num_vertices\",\n",
    "        \"iso_q\",\n",
    "        \"fractal\",\n",
    "        \"eri\",\n",
    "        \"convexity\",\n",
    "        \"area_in_me\",\n",
    "        \"corners\",\n",
    "        \"average_distance\",\n",
    "        \"neighbors_within_50m\",\n",
    "        \"first_neighbor\",\n",
    "        \"distance_to_nearest_road\",\n",
    "        \"centroid_elevation\",\n",
    "        \"orientation\",\n",
    "        \"street_alignment\",\n",
    "        \"ccd_means\",\n",
    "        \"ccd_stdev\",\n",
    "        \"cwa\",\n",
    "        \"elongation\",\n",
    "        \"squ_comp\",\n",
    "        \"squareness\",\n",
    "        \"perimeter\",\n",
    "        \"average_alignment\",\n",
    "        \"first_neighbor_alignment\",\n",
    "    ]\n",
    "]\n",
    "\n",
    "y = df[\"tag\"]\n",
    "\n",
    "# Split the data into training and testing sets\n",
    "X_train, X_test, y_train, y_test = train_test_split(\n",
    "    X, y, test_size=0.15, random_state=42\n",
    ")\n",
    "\n",
    "X_train = scaler.fit_transform(X_train)\n",
    "X_test = scaler.transform(X_test)"
   ]
  },
  {
   "cell_type": "code",
   "execution_count": 37,
   "metadata": {},
   "outputs": [],
   "source": [
    "# Create a Support Vector Machine classifier\n",
    "clf = SVC(kernel='linear', random_state=42)"
   ]
  },
  {
   "cell_type": "code",
   "execution_count": 39,
   "metadata": {},
   "outputs": [
    {
     "name": "stdout",
     "output_type": "stream",
     "text": [
      "Fitting 3 folds for each of 16 candidates, totalling 48 fits\n"
     ]
    },
    {
     "name": "stderr",
     "output_type": "stream",
     "text": [
      "INFO:__main__:Best hyperparameters according to grid search: {'C': 0.1, 'gamma': 1}\n"
     ]
    }
   ],
   "source": [
    "# Define the parameter grid for hyperparameter tuning\n",
    "param_grid = {\n",
    "    'C': [0.1, 1, 10, 100],\n",
    "    'gamma': [1, 0.1, 0.01, 0.001],\n",
    "}\n",
    "\n",
    "# Create a GridSearchCV object\n",
    "grid_search = GridSearchCV(clf, param_grid, cv=3, scoring=\"accuracy\", verbose=3, n_jobs=-1)\n",
    "\n",
    "# Perform grid search to find the best hyperparameters\n",
    "grid_search.fit(X_train, y_train)\n",
    "\n",
    "# Get the best estimator (model) from the grid search\n",
    "best_clf = grid_search.best_estimator_\n",
    "\n",
    "logger.info(\"Best hyperparameters according to grid search: %s\", grid_search.best_params_)\n"
   ]
  },
  {
   "cell_type": "code",
   "execution_count": 40,
   "metadata": {},
   "outputs": [
    {
     "name": "stderr",
     "output_type": "stream",
     "text": [
      "INFO:__main__:Optimal number of features: 17\n",
      "INFO:__main__:Best cross-validation accuracy: 0.6700500542546116\n"
     ]
    }
   ],
   "source": [
    "# Evaluate feature importance using RFE with cross-validation\n",
    "def evaluate_rfe(n_features):\n",
    "    rfe = RFE(estimator=best_clf, n_features_to_select=n_features)\n",
    "    rfe.fit(X_train, y_train)\n",
    "    X_train_rfe = rfe.transform(X_train)\n",
    "    scores = cross_val_score(best_clf, X_train_rfe, y_train, cv=StratifiedKFold(n_splits=5, shuffle=True, random_state=42), scoring='accuracy')\n",
    "    return scores.mean()\n",
    "\n",
    "# Evaluate performance for different numbers of features\n",
    "num_features = list(range(1, X.shape[1] + 1))\n",
    "scores = [evaluate_rfe(n) for n in num_features]\n",
    "\n",
    "# Find the optimal number of features\n",
    "optimal_num_features = num_features[np.argmax(scores)]\n",
    "logger.info(f\"Optimal number of features: {optimal_num_features}\")\n",
    "logger.info(f\"Best cross-validation accuracy: {max(scores)}\")"
   ]
  },
  {
   "cell_type": "code",
   "execution_count": 41,
   "metadata": {},
   "outputs": [
    {
     "name": "stderr",
     "output_type": "stream",
     "text": [
      "INFO:__main__:Best model accuracy: 62.50%\n"
     ]
    }
   ],
   "source": [
    "# Fit the model with the optimal number of features\n",
    "rfe = RFE(estimator=best_clf, n_features_to_select=optimal_num_features)\n",
    "rfe.fit(X_train, y_train)\n",
    "X_train_rfe = rfe.transform(X_train)\n",
    "X_test_rfe = rfe.transform(X_test)\n",
    "\n",
    "# Refit the best model on the reduced feature set\n",
    "best_clf.fit(X_train_rfe, y_train)\n",
    "y_pred = best_clf.predict(X_test_rfe)\n",
    "\n",
    "# Calculate the accuracy of the best model\n",
    "accuracy = accuracy_score(y_test, y_pred)\n",
    "logger.info(\"Best model accuracy: %.2f%%\", accuracy * 100)"
   ]
  },
  {
   "cell_type": "code",
   "execution_count": 42,
   "metadata": {},
   "outputs": [
    {
     "name": "stderr",
     "output_type": "stream",
     "text": [
      "INFO:__main__:Cross-validation scores: [0.68411215 0.68224299 0.68037383 0.65543071 0.64981273]\n",
      "INFO:__main__:Mean cross-validation score: 67.04%\n",
      "INFO:__main__:Classification Report:\n",
      "              precision    recall  f1-score   support\n",
      "\n",
      "      Tier 1       1.00      0.00      0.00        17\n",
      "      Tier 2       0.67      0.41      0.50       143\n",
      "      Tier 3       0.61      0.89      0.73       199\n",
      "      Tier 4       0.62      0.53      0.57       113\n",
      "\n",
      "    accuracy                           0.62       472\n",
      "   macro avg       0.73      0.46      0.45       472\n",
      "weighted avg       0.65      0.62      0.60       472\n",
      "\n"
     ]
    }
   ],
   "source": [
    "# Cross-validation scores\n",
    "cv_scores = cross_val_score(best_clf, X_train_rfe, y_train, cv=5)\n",
    "logger.info(\"Cross-validation scores: %s\", cv_scores)\n",
    "logger.info(\"Mean cross-validation score: %.2f%%\", cv_scores.mean() * 100)\n",
    "\n",
    "# Per-class evaluation\n",
    "class_report = classification_report(y_test, y_pred, target_names=best_clf.classes_.astype(str), zero_division=1)\n",
    "logger.info(\"Classification Report:\\n%s\", class_report)\n"
   ]
  },
  {
   "cell_type": "code",
   "execution_count": 43,
   "metadata": {},
   "outputs": [
    {
     "name": "stderr",
     "output_type": "stream",
     "text": [
      "INFO:__main__:Confusion Matrix:\n",
      "[[  0  13   3   1]\n",
      " [  0  58  63  22]\n",
      " [  0   9 177  13]\n",
      " [  0   7  46  60]]\n"
     ]
    },
    {
     "data": {
      "image/png": "[encoded data removed]",
      "text/plain": [
       "<Figure size 1000x700 with 2 Axes>"
      ]
     },
     "metadata": {},
     "output_type": "display_data"
    }
   ],
   "source": [
    "# Confusion matrix\n",
    "cm = confusion_matrix(y_test, y_pred, labels=best_clf.classes_)\n",
    "logger.info(\"Confusion Matrix:\\n%s\", cm)\n",
    "\n",
    "# Calculate row-wise percentages\n",
    "cm_percentage = cm.astype('float') / cm.sum(axis=1)[:, np.newaxis] * 100\n",
    "\n",
    "# Plotting the confusion matrix using seaborn\n",
    "cm_df = pd.DataFrame(cm, index=best_clf.classes_, columns=best_clf.classes_)\n",
    "cm_percentage_df = pd.DataFrame(cm_percentage, index=best_clf.classes_, columns=best_clf.classes_)\n",
    "\n",
    "plt.figure(figsize=(10, 7))\n",
    "\n",
    "group_counts = [\"{0:0.0f}\".format(value) for value in cm.flatten()]\n",
    "group_percentages = [\"{0:.0f}%\".format(value) for value in cm_percentage.flatten()]\n",
    "\n",
    "labels = [f\"{v1}\\n{v2}\" for v1, v2 in zip(group_counts, group_percentages)]\n",
    "labels = np.asarray(labels).reshape(cm.shape)\n",
    "\n",
    "ax = sns.heatmap(cm_percentage_df, annot=labels, fmt='', cmap='Blues', square=True, annot_kws={\"size\": 14}, vmin=0, vmax=100)\n",
    "\n",
    "# Customize the title and axis labels with padding and increased font size\n",
    "ax.set_title(\"Support Vector Machine Confusion Matrix\", pad=20, fontsize=18)\n",
    "ax.set_xlabel(\"Predicted Building Class\", labelpad=20, fontsize=14)\n",
    "ax.set_ylabel(\"True Building Class\", labelpad=20, fontsize=14)\n",
    "\n",
    "# Customize the color bar to show percentages\n",
    "cbar = ax.collections[0].colorbar\n",
    "cbar.ax.yaxis.set_major_formatter(plt.FuncFormatter(lambda x, _: f'{int(x)}%'))\n",
    "\n",
    "plt.show()\n"
   ]
  },
  {
   "cell_type": "code",
   "execution_count": 44,
   "metadata": {},
   "outputs": [
    {
     "name": "stdout",
     "output_type": "stream",
     "text": [
      "                     Feature  RFE Ranking\n",
      "0               num_vertices            1\n",
      "20                 perimeter            1\n",
      "16                       cwa            1\n",
      "15                 ccd_stdev            1\n",
      "14                 ccd_means            1\n",
      "13          street_alignment            1\n",
      "12               orientation            1\n",
      "21         average_alignment            1\n",
      "10  distance_to_nearest_road            1\n",
      "11        centroid_elevation            1\n",
      "8       neighbors_within_50m            1\n",
      "7           average_distance            1\n",
      "5                 area_in_me            1\n",
      "4                  convexity            1\n",
      "3                        eri            1\n",
      "2                    fractal            1\n",
      "9             first_neighbor            1\n",
      "19                squareness            2\n",
      "6                    corners            3\n",
      "22  first_neighbor_alignment            4\n",
      "17                elongation            5\n",
      "18                  squ_comp            6\n",
      "1                      iso_q            7\n"
     ]
    }
   ],
   "source": [
    "# Since SVMs don't provide feature importances directly, we'll use the RFE ranking instead\n",
    "rfe_ranking = rfe.ranking_\n",
    "feature_importance_df = pd.DataFrame({\n",
    "    'Feature': X.columns,\n",
    "    'RFE Ranking': rfe_ranking\n",
    "})\n",
    "\n",
    "# Sort the DataFrame by RFE ranking\n",
    "feature_importance_df.sort_values(by='RFE Ranking', inplace=True)\n",
    "\n",
    "# Print the feature importances\n",
    "print(feature_importance_df)"
   ]
  },
  {
   "cell_type": "code",
   "execution_count": 45,
   "metadata": {},
   "outputs": [],
   "source": [
    "# Export the model to a file\n",
    "dump(best_clf, 'datafiles/results/Support Vector Machine/svm_model.joblib')\n",
    "\n",
    "# Export predictions to a file\n",
    "dump(y_pred, 'datafiles/results/Support Vector Machine/svm_predictions.joblib')\n",
    "\n",
    "# Export tests to a file\n",
    "dump(y_test, 'datafiles/results/Support Vector Machine/svm_tests.joblib')\n",
    "\n",
    "# Export training results\n",
    "results = {\n",
    "    'best_params': grid_search.best_params_,\n",
    "    'accuracy': accuracy,\n",
    "    'feature_importances': feature_importance_df.to_dict()\n",
    "}\n",
    "with open('datafiles/results/Support Vector Machine/svm_model_results.json', 'w') as f:\n",
    "    json.dump(results, f)"
   ]
  }
 ],
 "metadata": {
  "kernelspec": {
   "display_name": "Python 3",
   "language": "python",
   "name": "python3"
  },
  "language_info": {
   "codemirror_mode": {
    "name": "ipython",
    "version": 3
   },
   "file_extension": ".py",
   "mimetype": "text/x-python",
   "name": "python",
   "nbconvert_exporter": "python",
   "pygments_lexer": "ipython3",
   "version": "3.10.6"
  }
 },
 "nbformat": 4,
 "nbformat_minor": 2
}
